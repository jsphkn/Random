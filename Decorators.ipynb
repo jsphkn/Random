{
 "cells": [
  {
   "cell_type": "markdown",
   "metadata": {},
   "source": [
    "https://www.youtube.com/watch?v=81S01c9zytE"
   ]
  },
  {
   "cell_type": "markdown",
   "metadata": {},
   "source": [
    "Functions as object"
   ]
  },
  {
   "cell_type": "code",
   "execution_count": 1,
   "metadata": {
    "collapsed": false
   },
   "outputs": [
    {
     "data": {
      "text/plain": [
       "['lime', 'banana', 'grapes', 'pineapple']"
      ]
     },
     "execution_count": 1,
     "metadata": {},
     "output_type": "execute_result"
    }
   ],
   "source": [
    "fruit = ['banana','grapes','lime','pineapple']\n",
    "sorted(fruit,key = len) #passing function as another function"
   ]
  },
  {
   "cell_type": "code",
   "execution_count": 2,
   "metadata": {
    "collapsed": true
   },
   "outputs": [],
   "source": [
    "?sorted"
   ]
  },
  {
   "cell_type": "code",
   "execution_count": 3,
   "metadata": {
    "collapsed": true
   },
   "outputs": [],
   "source": [
    "def fibonacci(n):\n",
    "    \"\"\"create a list of n fibonacci numbers\"\"\"\n",
    "    a = 0\n",
    "    b = 1\n",
    "    l = [0]\n",
    "    for _ in range(n):\n",
    "        a,b = b,a+b\n",
    "        l.append(a)\n",
    "    return l"
   ]
  },
  {
   "cell_type": "code",
   "execution_count": 4,
   "metadata": {
    "collapsed": false
   },
   "outputs": [
    {
     "data": {
      "text/plain": [
       "[0, 1, 1, 2, 3, 5, 8, 13, 21, 34, 55]"
      ]
     },
     "execution_count": 4,
     "metadata": {},
     "output_type": "execute_result"
    }
   ],
   "source": [
    "fibonacci(10)"
   ]
  },
  {
   "cell_type": "code",
   "execution_count": 5,
   "metadata": {
    "collapsed": false
   },
   "outputs": [
    {
     "data": {
      "text/plain": [
       "'create a list of n fibonacci numbers'"
      ]
     },
     "execution_count": 5,
     "metadata": {},
     "output_type": "execute_result"
    }
   ],
   "source": [
    "fibonacci.__doc__ #being a function it has attributes"
   ]
  },
  {
   "cell_type": "code",
   "execution_count": 6,
   "metadata": {
    "collapsed": false
   },
   "outputs": [
    {
     "data": {
      "text/plain": [
       "<function dict.values>"
      ]
     },
     "execution_count": 6,
     "metadata": {},
     "output_type": "execute_result"
    }
   ],
   "source": [
    "fibonacci.__annotations__.values"
   ]
  },
  {
   "cell_type": "code",
   "execution_count": 7,
   "metadata": {
    "collapsed": false
   },
   "outputs": [
    {
     "data": {
      "text/plain": [
       "('n', 'a', 'b', 'l', '_')"
      ]
     },
     "execution_count": 7,
     "metadata": {},
     "output_type": "execute_result"
    }
   ],
   "source": [
    "fibonacci.__code__.co_varnames"
   ]
  },
  {
   "cell_type": "code",
   "execution_count": 8,
   "metadata": {
    "collapsed": false
   },
   "outputs": [
    {
     "data": {
      "text/plain": [
       "mappingproxy({'n': <Parameter \"n\">})"
      ]
     },
     "execution_count": 8,
     "metadata": {},
     "output_type": "execute_result"
    }
   ],
   "source": [
    "from inspect import signature\n",
    "signature(fibonacci).parameters"
   ]
  },
  {
   "cell_type": "markdown",
   "metadata": {},
   "source": [
    "Decorators are syntactic sugar"
   ]
  },
  {
   "cell_type": "markdown",
   "metadata": {},
   "source": [
    "function replacement"
   ]
  },
  {
   "cell_type": "code",
   "execution_count": 9,
   "metadata": {
    "collapsed": false
   },
   "outputs": [],
   "source": [
    "def deco(f):\n",
    "    def inner():\n",
    "        return \"inner result\"\n",
    "    return inner\n",
    "\n",
    "@deco\n",
    "def target():\n",
    "    return \"original result\""
   ]
  },
  {
   "cell_type": "code",
   "execution_count": 10,
   "metadata": {
    "collapsed": false
   },
   "outputs": [
    {
     "data": {
      "text/plain": [
       "'inner result'"
      ]
     },
     "execution_count": 10,
     "metadata": {},
     "output_type": "execute_result"
    }
   ],
   "source": [
    "target()"
   ]
  },
  {
   "cell_type": "code",
   "execution_count": 11,
   "metadata": {
    "collapsed": false
   },
   "outputs": [
    {
     "data": {
      "text/plain": [
       "<function __main__.deco.<locals>.inner>"
      ]
     },
     "execution_count": 11,
     "metadata": {},
     "output_type": "execute_result"
    }
   ],
   "source": [
    "target #function as we can see is actually replaced"
   ]
  },
  {
   "cell_type": "markdown",
   "metadata": {},
   "source": [
    "Decorators run at import time. Only importing will run all the function inside"
   ]
  },
  {
   "cell_type": "code",
   "execution_count": 12,
   "metadata": {
    "collapsed": true
   },
   "outputs": [],
   "source": [
    "import dis"
   ]
  },
  {
   "cell_type": "code",
   "execution_count": 13,
   "metadata": {
    "collapsed": false
   },
   "outputs": [
    {
     "ename": "NameError",
     "evalue": "name 'square' is not defined",
     "output_type": "error",
     "traceback": [
      "\u001b[0;31m---------------------------------------------------------------------------\u001b[0m",
      "\u001b[0;31mNameError\u001b[0m                                 Traceback (most recent call last)",
      "\u001b[0;32m<ipython-input-13-7c4f00d0ba16>\u001b[0m in \u001b[0;36m<module>\u001b[0;34m()\u001b[0m\n\u001b[0;32m----> 1\u001b[0;31m \u001b[0mdis\u001b[0m\u001b[1;33m.\u001b[0m\u001b[0mdis\u001b[0m\u001b[1;33m(\u001b[0m\u001b[0msquare\u001b[0m\u001b[1;33m)\u001b[0m\u001b[1;33m\u001b[0m\u001b[0m\n\u001b[0m",
      "\u001b[0;31mNameError\u001b[0m: name 'square' is not defined"
     ]
    }
   ],
   "source": [
    "dis.dis(square)"
   ]
  },
  {
   "cell_type": "code",
   "execution_count": 14,
   "metadata": {
    "collapsed": false
   },
   "outputs": [
    {
     "name": "stdout",
     "output_type": "stream",
     "text": [
      "  4           0 LOAD_CONST               1 (5)\n",
      "              3 STORE_FAST               0 (a)\n",
      "\n",
      "  5           6 LOAD_GLOBAL              0 (print)\n",
      "              9 LOAD_FAST                0 (a)\n",
      "             12 CALL_FUNCTION            1 (1 positional, 0 keyword pair)\n",
      "             15 POP_TOP\n",
      "\n",
      "  6          16 LOAD_GLOBAL              0 (print)\n",
      "             19 LOAD_GLOBAL              1 (b)\n",
      "             22 CALL_FUNCTION            1 (1 positional, 0 keyword pair)\n",
      "             25 POP_TOP\n",
      "             26 LOAD_CONST               0 (None)\n",
      "             29 RETURN_VALUE\n"
     ]
    }
   ],
   "source": [
    "b = 6\n",
    "\n",
    "def f1():\n",
    "    a = 5\n",
    "    print(a)\n",
    "    print(b)\n",
    "\n",
    "dis.dis(f1)"
   ]
  },
  {
   "cell_type": "code",
   "execution_count": 15,
   "metadata": {
    "collapsed": false
   },
   "outputs": [
    {
     "name": "stdout",
     "output_type": "stream",
     "text": [
      "  5           0 LOAD_CONST               1 (5)\n",
      "              3 STORE_FAST               0 (a)\n",
      "\n",
      "  6           6 LOAD_GLOBAL              0 (print)\n",
      "              9 LOAD_FAST                0 (a)\n",
      "             12 CALL_FUNCTION            1 (1 positional, 0 keyword pair)\n",
      "             15 POP_TOP\n",
      "\n",
      "  7          16 LOAD_GLOBAL              0 (print)\n",
      "             19 LOAD_FAST                1 (b)\n",
      "             22 CALL_FUNCTION            1 (1 positional, 0 keyword pair)\n",
      "             25 POP_TOP\n",
      "\n",
      "  8          26 LOAD_CONST               2 (4)\n",
      "             29 STORE_FAST               1 (b)\n",
      "             32 LOAD_CONST               0 (None)\n",
      "             35 RETURN_VALUE\n"
     ]
    }
   ],
   "source": [
    "#same but a little twist\n",
    "b = 6\n",
    "\n",
    "def f2():\n",
    "    a = 5\n",
    "    print(a)\n",
    "    print(b)\n",
    "    b = 4\n",
    "\n",
    "dis.dis(f2)"
   ]
  },
  {
   "cell_type": "code",
   "execution_count": 16,
   "metadata": {
    "collapsed": false
   },
   "outputs": [
    {
     "name": "stdout",
     "output_type": "stream",
     "text": [
      "  5           0 LOAD_CONST               1 (5)\n",
      "              3 STORE_FAST               0 (a)\n",
      "\n",
      "  7           6 LOAD_GLOBAL              0 (print)\n",
      "              9 LOAD_FAST                0 (a)\n",
      "             12 CALL_FUNCTION            1 (1 positional, 0 keyword pair)\n",
      "             15 POP_TOP\n",
      "\n",
      "  8          16 LOAD_GLOBAL              0 (print)\n",
      "             19 LOAD_GLOBAL              1 (b)\n",
      "             22 CALL_FUNCTION            1 (1 positional, 0 keyword pair)\n",
      "             25 POP_TOP\n",
      "\n",
      "  9          26 LOAD_CONST               2 (4)\n",
      "             29 STORE_GLOBAL             1 (b)\n",
      "             32 LOAD_CONST               0 (None)\n",
      "             35 RETURN_VALUE\n"
     ]
    }
   ],
   "source": [
    "#same but a little twist\n",
    "b = 6\n",
    "\n",
    "def f3():\n",
    "    a = 5\n",
    "    global b\n",
    "    print(a)\n",
    "    print(b)\n",
    "    b = 4\n",
    "\n",
    "dis.dis(f3)"
   ]
  },
  {
   "cell_type": "markdown",
   "metadata": {},
   "source": [
    "### Class analogy first works similar to the closure"
   ]
  },
  {
   "cell_type": "code",
   "execution_count": 17,
   "metadata": {
    "collapsed": true
   },
   "outputs": [],
   "source": [
    "class Averager():\n",
    "    \n",
    "    def __init__(self):\n",
    "        self.series = []\n",
    "    \n",
    "    def __call__(self,new_value):\n",
    "        self.series.append(new_value)\n",
    "        return sum(self.series)/len(self.series)\n"
   ]
  },
  {
   "cell_type": "code",
   "execution_count": 18,
   "metadata": {
    "collapsed": false
   },
   "outputs": [
    {
     "data": {
      "text/plain": [
       "10.0"
      ]
     },
     "execution_count": 18,
     "metadata": {},
     "output_type": "execute_result"
    }
   ],
   "source": [
    "avg = Averager()  #avg is an object of class Averager\n",
    "avg(10)   #avg object is used as a function"
   ]
  },
  {
   "cell_type": "code",
   "execution_count": 19,
   "metadata": {
    "collapsed": false
   },
   "outputs": [
    {
     "data": {
      "text/plain": [
       "10.5"
      ]
     },
     "execution_count": 19,
     "metadata": {},
     "output_type": "execute_result"
    }
   ],
   "source": [
    "avg(11)"
   ]
  },
  {
   "cell_type": "code",
   "execution_count": 20,
   "metadata": {
    "collapsed": false
   },
   "outputs": [
    {
     "data": {
      "text/plain": [
       "11.0"
      ]
     },
     "execution_count": 20,
     "metadata": {},
     "output_type": "execute_result"
    }
   ],
   "source": [
    "avg(12)"
   ]
  },
  {
   "cell_type": "markdown",
   "metadata": {},
   "source": [
    "### Now to real closure - this is in functions instead of class"
   ]
  },
  {
   "cell_type": "code",
   "execution_count": 21,
   "metadata": {
    "collapsed": true
   },
   "outputs": [],
   "source": [
    "def make_averager():\n",
    "    series = []\n",
    "    def averager(new_value):\n",
    "        series.append(new_value)  #here series is a free variable\n",
    "        return sum(series)/len(series)\n",
    "    return averager"
   ]
  },
  {
   "cell_type": "code",
   "execution_count": 22,
   "metadata": {
    "collapsed": true
   },
   "outputs": [],
   "source": [
    "avg = make_averager()"
   ]
  },
  {
   "cell_type": "code",
   "execution_count": 23,
   "metadata": {
    "collapsed": false
   },
   "outputs": [
    {
     "data": {
      "text/plain": [
       "10.0"
      ]
     },
     "execution_count": 23,
     "metadata": {},
     "output_type": "execute_result"
    }
   ],
   "source": [
    "avg(10)"
   ]
  },
  {
   "cell_type": "code",
   "execution_count": 24,
   "metadata": {
    "collapsed": false
   },
   "outputs": [
    {
     "data": {
      "text/plain": [
       "10.5"
      ]
     },
     "execution_count": 24,
     "metadata": {},
     "output_type": "execute_result"
    }
   ],
   "source": [
    "avg(11)"
   ]
  },
  {
   "cell_type": "code",
   "execution_count": 25,
   "metadata": {
    "collapsed": false
   },
   "outputs": [
    {
     "data": {
      "text/plain": [
       "11.0"
      ]
     },
     "execution_count": 25,
     "metadata": {},
     "output_type": "execute_result"
    }
   ],
   "source": [
    "avg(12)"
   ]
  },
  {
   "cell_type": "code",
   "execution_count": 26,
   "metadata": {
    "collapsed": false
   },
   "outputs": [
    {
     "data": {
      "text/plain": [
       "(<cell at 0x0000022F6DBADA08: list object at 0x0000022F6DC68A48>,)"
      ]
     },
     "execution_count": 26,
     "metadata": {},
     "output_type": "execute_result"
    }
   ],
   "source": [
    "avg.__closure__"
   ]
  },
  {
   "cell_type": "code",
   "execution_count": 27,
   "metadata": {
    "collapsed": false
   },
   "outputs": [
    {
     "data": {
      "text/plain": [
       "[10, 11, 12]"
      ]
     },
     "execution_count": 27,
     "metadata": {},
     "output_type": "execute_result"
    }
   ],
   "source": [
    "avg.__closure__[0].cell_contents #only one closure element as only one free variable"
   ]
  },
  {
   "cell_type": "code",
   "execution_count": 28,
   "metadata": {
    "collapsed": false
   },
   "outputs": [
    {
     "data": {
      "text/plain": [
       "('new_value',)"
      ]
     },
     "execution_count": 28,
     "metadata": {},
     "output_type": "execute_result"
    }
   ],
   "source": [
    "avg.__code__.co_varnames #only one local variable"
   ]
  },
  {
   "cell_type": "code",
   "execution_count": 29,
   "metadata": {
    "collapsed": false
   },
   "outputs": [
    {
     "data": {
      "text/plain": [
       "('series',)"
      ]
     },
     "execution_count": 29,
     "metadata": {},
     "output_type": "execute_result"
    }
   ],
   "source": [
    "avg.__code__.co_freevars"
   ]
  },
  {
   "cell_type": "code",
   "execution_count": 30,
   "metadata": {
    "collapsed": true
   },
   "outputs": [],
   "source": [
    "def make_averager2():\n",
    "    total = 0\n",
    "    count = 0\n",
    "    def averager(new_value):\n",
    "        count += 1\n",
    "        total += new_value\n",
    "        return total/count\n",
    "    return averager"
   ]
  },
  {
   "cell_type": "code",
   "execution_count": 31,
   "metadata": {
    "collapsed": false
   },
   "outputs": [
    {
     "ename": "UnboundLocalError",
     "evalue": "local variable 'count' referenced before assignment",
     "output_type": "error",
     "traceback": [
      "\u001b[0;31m---------------------------------------------------------------------------\u001b[0m",
      "\u001b[0;31mUnboundLocalError\u001b[0m                         Traceback (most recent call last)",
      "\u001b[0;32m<ipython-input-31-f98fe9cde03f>\u001b[0m in \u001b[0;36m<module>\u001b[0;34m()\u001b[0m\n\u001b[1;32m      1\u001b[0m \u001b[0mavg\u001b[0m \u001b[1;33m=\u001b[0m \u001b[0mmake_averager2\u001b[0m\u001b[1;33m(\u001b[0m\u001b[1;33m)\u001b[0m\u001b[1;33m\u001b[0m\u001b[0m\n\u001b[0;32m----> 2\u001b[0;31m \u001b[0mavg\u001b[0m\u001b[1;33m(\u001b[0m\u001b[1;36m10\u001b[0m\u001b[1;33m)\u001b[0m \u001b[1;31m#to resolve this problem\u001b[0m\u001b[1;33m\u001b[0m\u001b[0m\n\u001b[0m",
      "\u001b[0;32m<ipython-input-30-9a356c8de362>\u001b[0m in \u001b[0;36maverager\u001b[0;34m(new_value)\u001b[0m\n\u001b[1;32m      3\u001b[0m     \u001b[0mcount\u001b[0m \u001b[1;33m=\u001b[0m \u001b[1;36m0\u001b[0m\u001b[1;33m\u001b[0m\u001b[0m\n\u001b[1;32m      4\u001b[0m     \u001b[1;32mdef\u001b[0m \u001b[0maverager\u001b[0m\u001b[1;33m(\u001b[0m\u001b[0mnew_value\u001b[0m\u001b[1;33m)\u001b[0m\u001b[1;33m:\u001b[0m\u001b[1;33m\u001b[0m\u001b[0m\n\u001b[0;32m----> 5\u001b[0;31m         \u001b[0mcount\u001b[0m \u001b[1;33m+=\u001b[0m \u001b[1;36m1\u001b[0m\u001b[1;33m\u001b[0m\u001b[0m\n\u001b[0m\u001b[1;32m      6\u001b[0m         \u001b[0mtotal\u001b[0m \u001b[1;33m+=\u001b[0m \u001b[0mnew_value\u001b[0m\u001b[1;33m\u001b[0m\u001b[0m\n\u001b[1;32m      7\u001b[0m         \u001b[1;32mreturn\u001b[0m \u001b[0mtotal\u001b[0m\u001b[1;33m/\u001b[0m\u001b[0mcount\u001b[0m\u001b[1;33m\u001b[0m\u001b[0m\n",
      "\u001b[0;31mUnboundLocalError\u001b[0m: local variable 'count' referenced before assignment"
     ]
    }
   ],
   "source": [
    "avg = make_averager2()\n",
    "avg(10) #to resolve this problem"
   ]
  },
  {
   "cell_type": "code",
   "execution_count": 32,
   "metadata": {
    "collapsed": true
   },
   "outputs": [],
   "source": [
    "avg.__closure__ #there is no closure defined here"
   ]
  },
  {
   "cell_type": "code",
   "execution_count": 33,
   "metadata": {
    "collapsed": true
   },
   "outputs": [],
   "source": [
    "#way around for that is \n",
    "\n",
    "def make_averager3():\n",
    "    total = 0\n",
    "    count = 0\n",
    "    def averager(new_value):\n",
    "        nonlocal total,count \n",
    "        count += 1\n",
    "        total += new_value\n",
    "        return total/count\n",
    "    return averager"
   ]
  },
  {
   "cell_type": "code",
   "execution_count": 34,
   "metadata": {
    "collapsed": false
   },
   "outputs": [
    {
     "data": {
      "text/plain": [
       "10.0"
      ]
     },
     "execution_count": 34,
     "metadata": {},
     "output_type": "execute_result"
    }
   ],
   "source": [
    "avg = make_averager3()\n",
    "avg(10)"
   ]
  },
  {
   "cell_type": "code",
   "execution_count": 35,
   "metadata": {
    "collapsed": false
   },
   "outputs": [
    {
     "data": {
      "text/plain": [
       "10.5"
      ]
     },
     "execution_count": 35,
     "metadata": {},
     "output_type": "execute_result"
    }
   ],
   "source": [
    "avg(11)"
   ]
  },
  {
   "cell_type": "code",
   "execution_count": 36,
   "metadata": {
    "collapsed": false
   },
   "outputs": [
    {
     "data": {
      "text/plain": [
       "(<cell at 0x0000022F6DBAD348: int object at 0x000000005F910210>,\n",
       " <cell at 0x0000022F6DBAD768: int object at 0x000000005F910470>)"
      ]
     },
     "execution_count": 36,
     "metadata": {},
     "output_type": "execute_result"
    }
   ],
   "source": [
    "avg.__closure__ #2 closure values"
   ]
  },
  {
   "cell_type": "code",
   "execution_count": 37,
   "metadata": {
    "collapsed": false
   },
   "outputs": [
    {
     "data": {
      "text/plain": [
       "('count', 'total')"
      ]
     },
     "execution_count": 37,
     "metadata": {},
     "output_type": "execute_result"
    }
   ],
   "source": [
    "avg.__code__.co_freevars"
   ]
  },
  {
   "cell_type": "code",
   "execution_count": 38,
   "metadata": {
    "collapsed": true
   },
   "outputs": [],
   "source": [
    "#way around for that is \n",
    "\n",
    "def make_averager4():\n",
    "    total = 0\n",
    "    count = 0\n",
    "    def averager(new_value):\n",
    "        global total,count \n",
    "        count += 1\n",
    "        total += new_value\n",
    "        return total/count\n",
    "    return averager"
   ]
  },
  {
   "cell_type": "code",
   "execution_count": 39,
   "metadata": {
    "collapsed": true
   },
   "outputs": [],
   "source": [
    "avg = make_averager4() # global is of no use"
   ]
  },
  {
   "cell_type": "code",
   "execution_count": 40,
   "metadata": {
    "collapsed": false
   },
   "outputs": [
    {
     "ename": "NameError",
     "evalue": "name 'count' is not defined",
     "output_type": "error",
     "traceback": [
      "\u001b[0;31m---------------------------------------------------------------------------\u001b[0m",
      "\u001b[0;31mNameError\u001b[0m                                 Traceback (most recent call last)",
      "\u001b[0;32m<ipython-input-40-2b3d43cb065d>\u001b[0m in \u001b[0;36m<module>\u001b[0;34m()\u001b[0m\n\u001b[0;32m----> 1\u001b[0;31m \u001b[0mavg\u001b[0m\u001b[1;33m(\u001b[0m\u001b[1;36m10\u001b[0m\u001b[1;33m)\u001b[0m\u001b[1;33m\u001b[0m\u001b[0m\n\u001b[0m",
      "\u001b[0;32m<ipython-input-38-6f3a671cac6d>\u001b[0m in \u001b[0;36maverager\u001b[0;34m(new_value)\u001b[0m\n\u001b[1;32m      6\u001b[0m     \u001b[1;32mdef\u001b[0m \u001b[0maverager\u001b[0m\u001b[1;33m(\u001b[0m\u001b[0mnew_value\u001b[0m\u001b[1;33m)\u001b[0m\u001b[1;33m:\u001b[0m\u001b[1;33m\u001b[0m\u001b[0m\n\u001b[1;32m      7\u001b[0m         \u001b[1;32mglobal\u001b[0m \u001b[0mtotal\u001b[0m\u001b[1;33m,\u001b[0m\u001b[0mcount\u001b[0m\u001b[1;33m\u001b[0m\u001b[0m\n\u001b[0;32m----> 8\u001b[0;31m         \u001b[0mcount\u001b[0m \u001b[1;33m+=\u001b[0m \u001b[1;36m1\u001b[0m\u001b[1;33m\u001b[0m\u001b[0m\n\u001b[0m\u001b[1;32m      9\u001b[0m         \u001b[0mtotal\u001b[0m \u001b[1;33m+=\u001b[0m \u001b[0mnew_value\u001b[0m\u001b[1;33m\u001b[0m\u001b[0m\n\u001b[1;32m     10\u001b[0m         \u001b[1;32mreturn\u001b[0m \u001b[0mtotal\u001b[0m\u001b[1;33m/\u001b[0m\u001b[0mcount\u001b[0m\u001b[1;33m\u001b[0m\u001b[0m\n",
      "\u001b[0;31mNameError\u001b[0m: name 'count' is not defined"
     ]
    }
   ],
   "source": [
    "avg(10)"
   ]
  },
  {
   "cell_type": "code",
   "execution_count": 41,
   "metadata": {
    "collapsed": true
   },
   "outputs": [],
   "source": [
    "avg.__closure__"
   ]
  },
  {
   "cell_type": "markdown",
   "metadata": {},
   "source": [
    "### Simplest decorator example"
   ]
  },
  {
   "cell_type": "code",
   "execution_count": 42,
   "metadata": {
    "collapsed": true
   },
   "outputs": [],
   "source": [
    "def floatify(f):\n",
    "    \n",
    "    def floated(n):\n",
    "        result = f(n)\n",
    "        return float(result)\n",
    "    return floated # change the function \n",
    "        "
   ]
  },
  {
   "cell_type": "code",
   "execution_count": 43,
   "metadata": {
    "collapsed": true
   },
   "outputs": [],
   "source": [
    "@floatify\n",
    "def square(n):\n",
    "    return n * n"
   ]
  },
  {
   "cell_type": "code",
   "execution_count": 44,
   "metadata": {
    "collapsed": false
   },
   "outputs": [
    {
     "data": {
      "text/plain": [
       "4"
      ]
     },
     "execution_count": 44,
     "metadata": {},
     "output_type": "execute_result"
    }
   ],
   "source": [
    "2 * 2"
   ]
  },
  {
   "cell_type": "code",
   "execution_count": 45,
   "metadata": {
    "collapsed": false
   },
   "outputs": [
    {
     "data": {
      "text/plain": [
       "4.0"
      ]
     },
     "execution_count": 45,
     "metadata": {},
     "output_type": "execute_result"
    }
   ],
   "source": [
    "square(2) # 4.0 because of floatify"
   ]
  },
  {
   "cell_type": "code",
   "execution_count": 46,
   "metadata": {
    "collapsed": false
   },
   "outputs": [
    {
     "data": {
      "text/plain": [
       "<function __main__.floatify.<locals>.floated>"
      ]
     },
     "execution_count": 46,
     "metadata": {},
     "output_type": "execute_result"
    }
   ],
   "source": [
    "square"
   ]
  },
  {
   "cell_type": "markdown",
   "metadata": {},
   "source": [
    "### Clock Decorator"
   ]
  },
  {
   "cell_type": "code",
   "execution_count": 47,
   "metadata": {
    "collapsed": true
   },
   "outputs": [],
   "source": [
    "from functools import wraps\n",
    "import time\n",
    "\n",
    "def clock(f):\n",
    "    \n",
    "    @wraps(f) #this is wraps to preserve the metadata \n",
    "    def clocked(*args):\n",
    "        start = time.time()\n",
    "        time.sleep(0.1) #added this to see the time diff\n",
    "        result = f(*args) \n",
    "        print(\"time taken is {0:.16f}\".format(time.time() - start))\n",
    "        return result\n",
    "    return clocked"
   ]
  },
  {
   "cell_type": "code",
   "execution_count": 48,
   "metadata": {
    "collapsed": true
   },
   "outputs": [],
   "source": [
    "#this is copied from above\n",
    "@clock\n",
    "def fibonacci(n):\n",
    "    \"\"\"create a list of n fibonacci numbers\"\"\"\n",
    "    a = 0\n",
    "    b = 1\n",
    "    l = [0]\n",
    "    for _ in range(n):\n",
    "        a,b = b,a+b\n",
    "        l.append(a)\n",
    "    return l"
   ]
  },
  {
   "cell_type": "code",
   "execution_count": 49,
   "metadata": {
    "collapsed": false
   },
   "outputs": [
    {
     "data": {
      "text/plain": [
       "<function __main__.fibonacci>"
      ]
     },
     "execution_count": 49,
     "metadata": {},
     "output_type": "execute_result"
    }
   ],
   "source": [
    "#now first thing to notice is that the fibonacci will have its signature\n",
    "fibonacci  #this is different from above in case of square"
   ]
  },
  {
   "cell_type": "code",
   "execution_count": 50,
   "metadata": {
    "collapsed": false
   },
   "outputs": [
    {
     "data": {
      "text/plain": [
       "'create a list of n fibonacci numbers'"
      ]
     },
     "execution_count": 50,
     "metadata": {},
     "output_type": "execute_result"
    }
   ],
   "source": [
    "fibonacci.__doc__"
   ]
  },
  {
   "cell_type": "code",
   "execution_count": 51,
   "metadata": {
    "collapsed": false
   },
   "outputs": [
    {
     "name": "stdout",
     "output_type": "stream",
     "text": [
      "time taken is 0.1028015613555908\n"
     ]
    },
    {
     "data": {
      "text/plain": [
       "[0, 1, 1, 2, 3, 5, 8, 13, 21, 34, 55]"
      ]
     },
     "execution_count": 51,
     "metadata": {},
     "output_type": "execute_result"
    }
   ],
   "source": [
    "fibonacci(10)"
   ]
  },
  {
   "cell_type": "code",
   "execution_count": 52,
   "metadata": {
    "collapsed": true
   },
   "outputs": [],
   "source": [
    "@clock\n",
    "def factorial(n):\n",
    "    if n <= 1:\n",
    "        return 1\n",
    "    else:\n",
    "        return n * factorial(n - 1)"
   ]
  },
  {
   "cell_type": "code",
   "execution_count": 53,
   "metadata": {
    "collapsed": false
   },
   "outputs": [
    {
     "name": "stdout",
     "output_type": "stream",
     "text": [
      "time taken is 0.1027216911315918\n",
      "time taken is 0.2183299064636230\n",
      "time taken is 0.3289558887481689\n",
      "time taken is 0.4384553432464600\n",
      "time taken is 0.5414764881134033\n",
      "time taken is 0.6488864421844482\n",
      "time taken is 0.7546453475952148\n",
      "time taken is 0.8572158813476562\n",
      "time taken is 0.9614126682281494\n",
      "time taken is 1.0629723072052002\n"
     ]
    },
    {
     "data": {
      "text/plain": [
       "3628800"
      ]
     },
     "execution_count": 53,
     "metadata": {},
     "output_type": "execute_result"
    }
   ],
   "source": [
    "factorial(10)"
   ]
  },
  {
   "cell_type": "markdown",
   "metadata": {},
   "source": [
    "### Parametrized Decorators -- Also Decorator Factories"
   ]
  },
  {
   "cell_type": "code",
   "execution_count": 54,
   "metadata": {
    "collapsed": true
   },
   "outputs": [],
   "source": [
    "def clock(fmt = 'the time taken is {0:.16f}'):\n",
    "    def decorator(f):\n",
    "        \n",
    "        @wraps(f) #this is wraps to preserve the metadata \n",
    "        def clocked(*args):\n",
    "            start = time.time()\n",
    "            time.sleep(0.1) #added this to see the time diff\n",
    "            result = f(*args) \n",
    "            print(fmt.format(time.time() - start))\n",
    "            return result\n",
    "        return clocked\n",
    "    return decorator"
   ]
  },
  {
   "cell_type": "code",
   "execution_count": 55,
   "metadata": {
    "collapsed": true
   },
   "outputs": [],
   "source": [
    "@clock()\n",
    "def factorial(n):\n",
    "    if n <= 1:\n",
    "        return 1\n",
    "    else:\n",
    "        return n * factorial(n - 1)"
   ]
  },
  {
   "cell_type": "code",
   "execution_count": 56,
   "metadata": {
    "collapsed": false
   },
   "outputs": [
    {
     "name": "stdout",
     "output_type": "stream",
     "text": [
      "the time taken is 0.1022274494171143\n",
      "the time taken is 0.2049131393432617\n",
      "the time taken is 0.3074047565460205\n",
      "the time taken is 0.4075324535369873\n",
      "the time taken is 0.5076577663421631\n",
      "the time taken is 0.6231558322906494\n",
      "the time taken is 0.7289111614227295\n",
      "the time taken is 0.8385748863220215\n",
      "the time taken is 0.9480381011962891\n",
      "the time taken is 1.0583782196044922\n"
     ]
    },
    {
     "data": {
      "text/plain": [
       "3628800"
      ]
     },
     "execution_count": 56,
     "metadata": {},
     "output_type": "execute_result"
    }
   ],
   "source": [
    "factorial(10)"
   ]
  },
  {
   "cell_type": "code",
   "execution_count": 57,
   "metadata": {
    "collapsed": true
   },
   "outputs": [],
   "source": [
    "@clock('the time taken for factorial function is {0:.2f}')\n",
    "def factorial1(n):\n",
    "    if n <= 1:\n",
    "        return 1\n",
    "    else:\n",
    "        return n * factorial(n - 1)"
   ]
  },
  {
   "cell_type": "code",
   "execution_count": 58,
   "metadata": {
    "collapsed": false
   },
   "outputs": [
    {
     "name": "stdout",
     "output_type": "stream",
     "text": [
      "the time taken is 0.1001558303833008\n",
      "the time taken is 0.2157502174377441\n",
      "the time taken is 0.3313729763031006\n",
      "the time taken is 0.4469432830810547\n",
      "the time taken is 0.5627486705780029\n",
      "the time taken is 0.6783220767974854\n",
      "the time taken is 0.7786762714385986\n",
      "the time taken is 0.8987438678741455\n",
      "the time taken is 0.9988899230957031\n",
      "the time taken is 1.1124677658081055\n",
      "the time taken is 1.2161564826965332\n",
      "the time taken is 1.3185739517211914\n",
      "the time taken is 1.4186859130859375\n",
      "the time taken is 1.5287172794342041\n",
      "the time taken is 1.6346576213836670\n",
      "the time taken is 1.7346692085266113\n",
      "the time taken is 1.8442931175231934\n",
      "the time taken is 1.9579501152038574\n",
      "the time taken is 2.0591943264007568\n",
      "the time taken for factorial function is 2.16\n"
     ]
    },
    {
     "data": {
      "text/plain": [
       "2432902008176640000"
      ]
     },
     "execution_count": 58,
     "metadata": {},
     "output_type": "execute_result"
    }
   ],
   "source": [
    "factorial1(20)"
   ]
  },
  {
   "cell_type": "markdown",
   "metadata": {},
   "source": [
    "### LRU cache"
   ]
  },
  {
   "cell_type": "code",
   "execution_count": 59,
   "metadata": {
    "collapsed": false
   },
   "outputs": [
    {
     "name": "stdout",
     "output_type": "stream",
     "text": [
      "hello 636736.737830\n"
     ]
    }
   ],
   "source": [
    "print ('hello','{0:.6f}'.format(636736.73783))"
   ]
  },
  {
   "cell_type": "code",
   "execution_count": 60,
   "metadata": {
    "collapsed": true
   },
   "outputs": [],
   "source": [
    "def clock(fmt = 'the time taken is {0:.16f}'):\n",
    "    def decorator(f):\n",
    "        \n",
    "        @wraps(f) #this is wraps to preserve the metadata \n",
    "        def clocked(*args):\n",
    "            start = time.time()\n",
    "            time.sleep(0.1) #added this to see the time diff\n",
    "            result = f(*args) \n",
    "            #my assumption for now is only one argument we can change it though\n",
    "            print('func',f.__name__,'(',args[0],') ->',result,fmt.format(time.time() - start))\n",
    "            return result\n",
    "        return clocked\n",
    "    return decorator"
   ]
  },
  {
   "cell_type": "code",
   "execution_count": 61,
   "metadata": {
    "collapsed": true
   },
   "outputs": [],
   "source": [
    "@clock('time taken is : {0:.10f}')\n",
    "#returning nth fibonacci number\n",
    "def fibonacci_recursive(n):\n",
    "    if n == 1:\n",
    "        return 0\n",
    "    if n == 2:\n",
    "        return 1\n",
    "    return fibonacci_recursive(n - 1) + fibonacci_recursive(n - 2)"
   ]
  },
  {
   "cell_type": "code",
   "execution_count": 62,
   "metadata": {
    "collapsed": false
   },
   "outputs": [
    {
     "name": "stdout",
     "output_type": "stream",
     "text": [
      "func fibonacci_recursive ( 2 ) -> 1 time taken is : 0.1155126095\n",
      "func fibonacci_recursive ( 1 ) -> 0 time taken is : 0.1003522873\n",
      "func fibonacci_recursive ( 3 ) -> 1 time taken is : 0.3200340271\n",
      "func fibonacci_recursive ( 2 ) -> 1 time taken is : 0.1214566231\n",
      "func fibonacci_recursive ( 4 ) -> 2 time taken is : 0.5416402817\n",
      "func fibonacci_recursive ( 2 ) -> 1 time taken is : 0.1001241207\n",
      "func fibonacci_recursive ( 1 ) -> 0 time taken is : 0.1115577221\n",
      "func fibonacci_recursive ( 3 ) -> 1 time taken is : 0.3164005280\n",
      "func fibonacci_recursive ( 5 ) -> 3 time taken is : 0.9669535160\n",
      "func fibonacci_recursive ( 2 ) -> 1 time taken is : 0.1041531563\n",
      "func fibonacci_recursive ( 1 ) -> 0 time taken is : 0.1154899597\n",
      "func fibonacci_recursive ( 3 ) -> 1 time taken is : 0.3197317123\n",
      "func fibonacci_recursive ( 2 ) -> 1 time taken is : 0.1001336575\n",
      "func fibonacci_recursive ( 4 ) -> 2 time taken is : 0.5199916363\n",
      "func fibonacci_recursive ( 6 ) -> 5 time taken is : 1.5899155140\n",
      "func fibonacci_recursive ( 2 ) -> 1 time taken is : 0.1001560688\n",
      "func fibonacci_recursive ( 1 ) -> 0 time taken is : 0.1153674126\n",
      "func fibonacci_recursive ( 3 ) -> 1 time taken is : 0.3310902119\n",
      "func fibonacci_recursive ( 2 ) -> 1 time taken is : 0.1012678146\n",
      "func fibonacci_recursive ( 4 ) -> 2 time taken is : 0.5367026329\n",
      "func fibonacci_recursive ( 2 ) -> 1 time taken is : 0.1120080948\n",
      "func fibonacci_recursive ( 1 ) -> 0 time taken is : 0.1165738106\n",
      "func fibonacci_recursive ( 3 ) -> 1 time taken is : 0.3287835121\n",
      "func fibonacci_recursive ( 5 ) -> 3 time taken is : 0.9801862240\n",
      "func fibonacci_recursive ( 7 ) -> 8 time taken is : 2.6814084053\n",
      "func fibonacci_recursive ( 2 ) -> 1 time taken is : 0.1006588936\n",
      "func fibonacci_recursive ( 1 ) -> 0 time taken is : 0.1029253006\n",
      "func fibonacci_recursive ( 3 ) -> 1 time taken is : 0.3155090809\n",
      "func fibonacci_recursive ( 2 ) -> 1 time taken is : 0.1000084877\n",
      "func fibonacci_recursive ( 4 ) -> 2 time taken is : 0.5301454067\n",
      "func fibonacci_recursive ( 2 ) -> 1 time taken is : 0.1130599976\n",
      "func fibonacci_recursive ( 1 ) -> 0 time taken is : 0.1042315960\n",
      "func fibonacci_recursive ( 3 ) -> 1 time taken is : 0.3204340935\n",
      "func fibonacci_recursive ( 5 ) -> 3 time taken is : 0.9556305408\n",
      "func fibonacci_recursive ( 2 ) -> 1 time taken is : 0.1021721363\n",
      "func fibonacci_recursive ( 1 ) -> 0 time taken is : 0.1093034744\n",
      "func fibonacci_recursive ( 3 ) -> 1 time taken is : 0.3198981285\n",
      "func fibonacci_recursive ( 2 ) -> 1 time taken is : 0.1042888165\n",
      "func fibonacci_recursive ( 4 ) -> 2 time taken is : 0.5283823013\n",
      "func fibonacci_recursive ( 6 ) -> 5 time taken is : 1.5997445583\n",
      "func fibonacci_recursive ( 8 ) -> 13 time taken is : 4.3841998577\n"
     ]
    },
    {
     "data": {
      "text/plain": [
       "13"
      ]
     },
     "execution_count": 62,
     "metadata": {},
     "output_type": "execute_result"
    }
   ],
   "source": [
    "fibonacci_recursive(8)"
   ]
  },
  {
   "cell_type": "code",
   "execution_count": 63,
   "metadata": {
    "collapsed": false
   },
   "outputs": [
    {
     "name": "stdout",
     "output_type": "stream",
     "text": [
      "time taken is 0.1038780212402344\n"
     ]
    },
    {
     "data": {
      "text/plain": [
       "[0, 1, 1, 2, 3, 5, 8, 13, 21]"
      ]
     },
     "execution_count": 63,
     "metadata": {},
     "output_type": "execute_result"
    }
   ],
   "source": [
    "fibonacci(8) #correct we are evaluating it as 7"
   ]
  },
  {
   "cell_type": "code",
   "execution_count": 64,
   "metadata": {
    "collapsed": false
   },
   "outputs": [],
   "source": [
    "#magic of lru_cache\n",
    "from functools import lru_cache\n",
    "\n",
    "@lru_cache()\n",
    "@clock('time taken is : {0:.10f}')\n",
    "#returning nth fibonacci number\n",
    "def fibonacci_recursive(n):\n",
    "    if n == 1:\n",
    "        return 0\n",
    "    if n == 2:\n",
    "        return 1\n",
    "    return fibonacci_recursive(n - 1) + fibonacci_recursive(n - 2)"
   ]
  },
  {
   "cell_type": "code",
   "execution_count": 65,
   "metadata": {
    "collapsed": false
   },
   "outputs": [
    {
     "name": "stdout",
     "output_type": "stream",
     "text": [
      "func fibonacci_recursive ( 2 ) -> 1 time taken is : 0.1002490520\n",
      "func fibonacci_recursive ( 1 ) -> 0 time taken is : 0.1040802002\n",
      "func fibonacci_recursive ( 3 ) -> 1 time taken is : 0.3057212830\n",
      "func fibonacci_recursive ( 4 ) -> 2 time taken is : 0.4275910854\n",
      "func fibonacci_recursive ( 5 ) -> 3 time taken is : 0.5402431488\n",
      "func fibonacci_recursive ( 6 ) -> 5 time taken is : 0.6437354088\n",
      "func fibonacci_recursive ( 7 ) -> 8 time taken is : 0.7558131218\n",
      "func fibonacci_recursive ( 8 ) -> 13 time taken is : 0.8712155819\n"
     ]
    },
    {
     "data": {
      "text/plain": [
       "13"
      ]
     },
     "execution_count": 65,
     "metadata": {},
     "output_type": "execute_result"
    }
   ],
   "source": [
    "#no need of memoization\n",
    "fibonacci_recursive(8) # cool 1 only called once"
   ]
  },
  {
   "cell_type": "code",
   "execution_count": 66,
   "metadata": {
    "collapsed": false
   },
   "outputs": [
    {
     "data": {
      "text/plain": [
       "'<functools._lru_cache_wrapper object at 0x0000022F6DC3C978>'"
      ]
     },
     "execution_count": 66,
     "metadata": {},
     "output_type": "execute_result"
    }
   ],
   "source": [
    "repr(fibonacci_recursive)"
   ]
  },
  {
   "cell_type": "code",
   "execution_count": 67,
   "metadata": {
    "collapsed": false
   },
   "outputs": [
    {
     "name": "stdout",
     "output_type": "stream",
     "text": [
      "Averager\t avg\t b\t clock\t deco\t dis\t f1\t f2\t f3\t \n",
      "factorial\t factorial1\t fibonacci\t fibonacci_recursive\t floatify\t fruit\t lru_cache\t make_averager\t make_averager2\t \n",
      "make_averager3\t make_averager4\t signature\t square\t target\t time\t wraps\t \n"
     ]
    }
   ],
   "source": [
    "who"
   ]
  },
  {
   "cell_type": "markdown",
   "metadata": {},
   "source": [
    "### Decorators in Class"
   ]
  },
  {
   "cell_type": "code",
   "execution_count": 68,
   "metadata": {
    "collapsed": false
   },
   "outputs": [
    {
     "name": "stdout",
     "output_type": "stream",
     "text": [
      "15\n"
     ]
    }
   ],
   "source": [
    "a = 15\n",
    "print (repr(a))"
   ]
  },
  {
   "cell_type": "code",
   "execution_count": null,
   "metadata": {
    "collapsed": false
   },
   "outputs": [],
   "source": []
  },
  {
   "cell_type": "code",
   "execution_count": 69,
   "metadata": {
    "collapsed": true
   },
   "outputs": [],
   "source": [
    "class Clocker:\n",
    "    \n",
    "    def __init__(self,fmt = '[{end:0.8f}s] {name} ({args}) -> {result}'):\n",
    "        self.fmt = fmt\n",
    "    \n",
    "    def __call__(self,func):\n",
    "        @wraps(func)\n",
    "        def clocked(*_args):\n",
    "            start = time.time()\n",
    "            _result = func(*_args)\n",
    "            end = time.time() - start\n",
    "            name = func.__name__\n",
    "            args = ', '.join(repr(arg) for arg in _args)\n",
    "            result = repr(_result)\n",
    "            print(self.fmt.format(**locals()))\n",
    "            return _result\n",
    "        return clocked"
   ]
  },
  {
   "cell_type": "code",
   "execution_count": 70,
   "metadata": {
    "collapsed": true
   },
   "outputs": [],
   "source": [
    "@Clocker()\n",
    "def fibonacci_recursive(n):\n",
    "    if n == 1:\n",
    "        return 0\n",
    "    if n == 2:\n",
    "        return 1\n",
    "    return fibonacci_recursive(n - 1) + fibonacci_recursive(n - 2)"
   ]
  },
  {
   "cell_type": "code",
   "execution_count": 71,
   "metadata": {
    "collapsed": false
   },
   "outputs": [
    {
     "name": "stdout",
     "output_type": "stream",
     "text": [
      "[0.00000000s] fibonacci_recursive (2) -> 1\n",
      "[0.00000000s] fibonacci_recursive (1) -> 0\n",
      "[0.00000000s] fibonacci_recursive (3) -> 1\n",
      "[0.00000000s] fibonacci_recursive (2) -> 1\n",
      "[0.00000000s] fibonacci_recursive (4) -> 2\n",
      "[0.00000000s] fibonacci_recursive (2) -> 1\n",
      "[0.00000000s] fibonacci_recursive (1) -> 0\n",
      "[0.00000000s] fibonacci_recursive (3) -> 1\n",
      "[0.00000000s] fibonacci_recursive (5) -> 3\n",
      "[0.00000000s] fibonacci_recursive (2) -> 1\n",
      "[0.00000000s] fibonacci_recursive (1) -> 0\n",
      "[0.00000000s] fibonacci_recursive (3) -> 1\n",
      "[0.00000000s] fibonacci_recursive (2) -> 1\n",
      "[0.00000000s] fibonacci_recursive (4) -> 2\n",
      "[0.00000000s] fibonacci_recursive (6) -> 5\n",
      "[0.00000000s] fibonacci_recursive (2) -> 1\n",
      "[0.00000000s] fibonacci_recursive (1) -> 0\n",
      "[0.00000000s] fibonacci_recursive (3) -> 1\n",
      "[0.00000000s] fibonacci_recursive (2) -> 1\n",
      "[0.00000000s] fibonacci_recursive (4) -> 2\n",
      "[0.00000000s] fibonacci_recursive (2) -> 1\n",
      "[0.00000000s] fibonacci_recursive (1) -> 0\n",
      "[0.00000000s] fibonacci_recursive (3) -> 1\n",
      "[0.00000000s] fibonacci_recursive (5) -> 3\n",
      "[0.00000000s] fibonacci_recursive (7) -> 8\n",
      "[0.00000000s] fibonacci_recursive (2) -> 1\n",
      "[0.00000000s] fibonacci_recursive (1) -> 0\n",
      "[0.00000000s] fibonacci_recursive (3) -> 1\n",
      "[0.00000000s] fibonacci_recursive (2) -> 1\n",
      "[0.00000000s] fibonacci_recursive (4) -> 2\n",
      "[0.00000000s] fibonacci_recursive (2) -> 1\n",
      "[0.00000000s] fibonacci_recursive (1) -> 0\n",
      "[0.00000000s] fibonacci_recursive (3) -> 1\n",
      "[0.00000000s] fibonacci_recursive (5) -> 3\n",
      "[0.00000000s] fibonacci_recursive (2) -> 1\n",
      "[0.00000000s] fibonacci_recursive (1) -> 0\n",
      "[0.00000000s] fibonacci_recursive (3) -> 1\n",
      "[0.00000000s] fibonacci_recursive (2) -> 1\n",
      "[0.00000000s] fibonacci_recursive (4) -> 2\n",
      "[0.00000000s] fibonacci_recursive (6) -> 5\n",
      "[0.00000000s] fibonacci_recursive (8) -> 13\n",
      "[0.00000000s] fibonacci_recursive (2) -> 1\n",
      "[0.00000000s] fibonacci_recursive (1) -> 0\n",
      "[0.00000000s] fibonacci_recursive (3) -> 1\n",
      "[0.00000000s] fibonacci_recursive (2) -> 1\n",
      "[0.00000000s] fibonacci_recursive (4) -> 2\n",
      "[0.00000000s] fibonacci_recursive (2) -> 1\n",
      "[0.00000000s] fibonacci_recursive (1) -> 0\n",
      "[0.00000000s] fibonacci_recursive (3) -> 1\n",
      "[0.00000000s] fibonacci_recursive (5) -> 3\n",
      "[0.00000000s] fibonacci_recursive (2) -> 1\n",
      "[0.00000000s] fibonacci_recursive (1) -> 0\n",
      "[0.00000000s] fibonacci_recursive (3) -> 1\n",
      "[0.00000000s] fibonacci_recursive (2) -> 1\n",
      "[0.00000000s] fibonacci_recursive (4) -> 2\n",
      "[0.00000000s] fibonacci_recursive (6) -> 5\n",
      "[0.00000000s] fibonacci_recursive (2) -> 1\n",
      "[0.00000000s] fibonacci_recursive (1) -> 0\n",
      "[0.00000000s] fibonacci_recursive (3) -> 1\n",
      "[0.00000000s] fibonacci_recursive (2) -> 1\n",
      "[0.00000000s] fibonacci_recursive (4) -> 2\n",
      "[0.00000000s] fibonacci_recursive (2) -> 1\n",
      "[0.00000000s] fibonacci_recursive (1) -> 0\n",
      "[0.00000000s] fibonacci_recursive (3) -> 1\n",
      "[0.00000000s] fibonacci_recursive (5) -> 3\n",
      "[0.00000000s] fibonacci_recursive (7) -> 8\n",
      "[0.00000000s] fibonacci_recursive (9) -> 21\n",
      "[0.00000000s] fibonacci_recursive (2) -> 1\n",
      "[0.00000000s] fibonacci_recursive (1) -> 0\n",
      "[0.00000000s] fibonacci_recursive (3) -> 1\n",
      "[0.00000000s] fibonacci_recursive (2) -> 1\n",
      "[0.00000000s] fibonacci_recursive (4) -> 2\n",
      "[0.00000000s] fibonacci_recursive (2) -> 1\n",
      "[0.00000000s] fibonacci_recursive (1) -> 0\n",
      "[0.00000000s] fibonacci_recursive (3) -> 1\n",
      "[0.00000000s] fibonacci_recursive (5) -> 3\n",
      "[0.00000000s] fibonacci_recursive (2) -> 1\n",
      "[0.00000000s] fibonacci_recursive (1) -> 0\n",
      "[0.00000000s] fibonacci_recursive (3) -> 1\n",
      "[0.00000000s] fibonacci_recursive (2) -> 1\n",
      "[0.00000000s] fibonacci_recursive (4) -> 2\n",
      "[0.00000000s] fibonacci_recursive (6) -> 5\n",
      "[0.00000000s] fibonacci_recursive (2) -> 1\n",
      "[0.00000000s] fibonacci_recursive (1) -> 0\n",
      "[0.00000000s] fibonacci_recursive (3) -> 1\n",
      "[0.00000000s] fibonacci_recursive (2) -> 1\n",
      "[0.00000000s] fibonacci_recursive (4) -> 2\n",
      "[0.00000000s] fibonacci_recursive (2) -> 1\n",
      "[0.00000000s] fibonacci_recursive (1) -> 0\n",
      "[0.00000000s] fibonacci_recursive (3) -> 1\n",
      "[0.00000000s] fibonacci_recursive (5) -> 3\n",
      "[0.00000000s] fibonacci_recursive (7) -> 8\n",
      "[0.00000000s] fibonacci_recursive (2) -> 1\n",
      "[0.00000000s] fibonacci_recursive (1) -> 0\n",
      "[0.00000000s] fibonacci_recursive (3) -> 1\n",
      "[0.00000000s] fibonacci_recursive (2) -> 1\n",
      "[0.00000000s] fibonacci_recursive (4) -> 2\n",
      "[0.00000000s] fibonacci_recursive (2) -> 1\n",
      "[0.00000000s] fibonacci_recursive (1) -> 0\n",
      "[0.00000000s] fibonacci_recursive (3) -> 1\n",
      "[0.00000000s] fibonacci_recursive (5) -> 3\n",
      "[0.00000000s] fibonacci_recursive (2) -> 1\n",
      "[0.00000000s] fibonacci_recursive (1) -> 0\n",
      "[0.00000000s] fibonacci_recursive (3) -> 1\n",
      "[0.00000000s] fibonacci_recursive (2) -> 1\n",
      "[0.00000000s] fibonacci_recursive (4) -> 2\n",
      "[0.00000000s] fibonacci_recursive (6) -> 5\n",
      "[0.00000000s] fibonacci_recursive (8) -> 13\n",
      "[0.00000000s] fibonacci_recursive (10) -> 34\n"
     ]
    },
    {
     "data": {
      "text/plain": [
       "34"
      ]
     },
     "execution_count": 71,
     "metadata": {},
     "output_type": "execute_result"
    }
   ],
   "source": [
    "fibonacci_recursive(10)"
   ]
  },
  {
   "cell_type": "code",
   "execution_count": 72,
   "metadata": {
    "collapsed": false
   },
   "outputs": [
    {
     "data": {
      "text/plain": [
       "<function __main__.fibonacci_recursive>"
      ]
     },
     "execution_count": 72,
     "metadata": {},
     "output_type": "execute_result"
    }
   ],
   "source": [
    "fibonacci_recursive"
   ]
  },
  {
   "cell_type": "code",
   "execution_count": 73,
   "metadata": {
    "collapsed": true
   },
   "outputs": [],
   "source": [
    "fibonacci_recursive.__doc__"
   ]
  },
  {
   "cell_type": "code",
   "execution_count": 74,
   "metadata": {
    "collapsed": false
   },
   "outputs": [
    {
     "name": "stdout",
     "output_type": "stream",
     "text": [
      "[0.00000000s] fibonacci_recursive (2) -> 1\n",
      "[0.00000000s] fibonacci_recursive (1) -> 0\n",
      "[0.00000000s] fibonacci_recursive (3) -> 1\n",
      "[0.00000000s] fibonacci_recursive (4) -> 2\n",
      "[0.00000000s] fibonacci_recursive (5) -> 3\n",
      "[0.00000000s] fibonacci_recursive (6) -> 5\n",
      "[0.00000000s] fibonacci_recursive (7) -> 8\n",
      "[0.00000000s] fibonacci_recursive (8) -> 13\n",
      "[0.00000000s] fibonacci_recursive (9) -> 21\n",
      "[0.00000000s] fibonacci_recursive (10) -> 34\n"
     ]
    },
    {
     "data": {
      "text/plain": [
       "34"
      ]
     },
     "execution_count": 74,
     "metadata": {},
     "output_type": "execute_result"
    }
   ],
   "source": [
    "@lru_cache()\n",
    "@Clocker()\n",
    "def fibonacci_recursive(n):\n",
    "    '''this function is finding the nth fibonacci number using recursion'''\n",
    "    if n == 1:\n",
    "        return 0\n",
    "    if n == 2:\n",
    "        return 1\n",
    "    return fibonacci_recursive(n - 1) + fibonacci_recursive(n - 2)\n",
    "\n",
    "fibonacci_recursive(10)"
   ]
  },
  {
   "cell_type": "code",
   "execution_count": 75,
   "metadata": {
    "collapsed": false
   },
   "outputs": [
    {
     "data": {
      "text/plain": [
       "<functools._lru_cache_wrapper at 0x22f6dc3c978>"
      ]
     },
     "execution_count": 75,
     "metadata": {},
     "output_type": "execute_result"
    }
   ],
   "source": [
    "fibonacci_recursive"
   ]
  },
  {
   "cell_type": "code",
   "execution_count": 76,
   "metadata": {
    "collapsed": false
   },
   "outputs": [
    {
     "data": {
      "text/plain": [
       "'this function is finding the nth fibonacci number using recursion'"
      ]
     },
     "execution_count": 76,
     "metadata": {},
     "output_type": "execute_result"
    }
   ],
   "source": [
    "fibonacci_recursive.__doc__"
   ]
  },
  {
   "cell_type": "markdown",
   "metadata": {},
   "source": [
    "### @property "
   ]
  },
  {
   "cell_type": "code",
   "execution_count": 77,
   "metadata": {
    "collapsed": true
   },
   "outputs": [],
   "source": [
    "class Employee:\n",
    "    \n",
    "    def __init__(self,first,last):\n",
    "        self.first = first\n",
    "        self.last = last\n",
    "        \n",
    "    @property\n",
    "    def email(self):\n",
    "        return '{}.{}@email.sc.edu'.format(self.first,self.last)\n",
    "    \n",
    "    @property\n",
    "    def full_name(self):\n",
    "        return '{} {}'.format(self.first,self.last)\n",
    "    \n",
    "emp1 = Employee('vijendra','rana')"
   ]
  },
  {
   "cell_type": "code",
   "execution_count": 78,
   "metadata": {
    "collapsed": false
   },
   "outputs": [
    {
     "data": {
      "text/plain": [
       "'vijendra.rana@email.sc.edu'"
      ]
     },
     "execution_count": 78,
     "metadata": {},
     "output_type": "execute_result"
    }
   ],
   "source": [
    "emp1.email"
   ]
  },
  {
   "cell_type": "code",
   "execution_count": 79,
   "metadata": {
    "collapsed": false
   },
   "outputs": [
    {
     "data": {
      "text/plain": [
       "'vijendra rana'"
      ]
     },
     "execution_count": 79,
     "metadata": {},
     "output_type": "execute_result"
    }
   ],
   "source": [
    "emp1.full_name"
   ]
  },
  {
   "cell_type": "code",
   "execution_count": 80,
   "metadata": {
    "collapsed": false
   },
   "outputs": [
    {
     "ename": "AttributeError",
     "evalue": "can't set attribute",
     "output_type": "error",
     "traceback": [
      "\u001b[0;31m---------------------------------------------------------------------------\u001b[0m",
      "\u001b[0;31mAttributeError\u001b[0m                            Traceback (most recent call last)",
      "\u001b[0;32m<ipython-input-80-9f75f089b9d4>\u001b[0m in \u001b[0;36m<module>\u001b[0;34m()\u001b[0m\n\u001b[0;32m----> 1\u001b[0;31m \u001b[0memp1\u001b[0m\u001b[1;33m.\u001b[0m\u001b[0mfull_name\u001b[0m \u001b[1;33m=\u001b[0m \u001b[1;34m'ajay rana'\u001b[0m\u001b[1;33m\u001b[0m\u001b[0m\n\u001b[0m",
      "\u001b[0;31mAttributeError\u001b[0m: can't set attribute"
     ]
    }
   ],
   "source": [
    "emp1.full_name = 'ajay rana'"
   ]
  },
  {
   "cell_type": "markdown",
   "metadata": {},
   "source": [
    "https://www.youtube.com/watch?v=jCzT9XFZ5bw&list=PL-osiE80TeTsqhIuOqKhwlXsIBIdSeYtc&index=6&t=312s"
   ]
  },
  {
   "cell_type": "code",
   "execution_count": 81,
   "metadata": {
    "collapsed": true
   },
   "outputs": [],
   "source": [
    "\n",
    "class Employee:\n",
    "    \n",
    "    def __init__(self,first,last):\n",
    "        self.first = first\n",
    "        self.last = last\n",
    "        \n",
    "    @property\n",
    "    def email(self):\n",
    "        return '{}.{}@email.sc.edu'.format(self.first,self.last)\n",
    "    \n",
    "    @property\n",
    "    def full_name(self):\n",
    "        return '{} {}'.format(self.first,self.last)\n",
    "    \n",
    "    @full_name.setter\n",
    "    def full_name(self,name):\n",
    "        first,last = name.split(' ')\n",
    "        self.first = first\n",
    "        self.last = last\n",
    "    \n",
    "    @email.setter\n",
    "    def email(self,new_email):\n",
    "        first,last = new_email.split('@')[0].split('.')\n",
    "        self.first = first\n",
    "        self.last = last\n",
    "    \n",
    "    @email.deleter\n",
    "    def email(self):\n",
    "        print (\"Deleting the email hence the first name and last name as well\")\n",
    "        self.first = None\n",
    "        self.last = None\n",
    "        \n",
    "emp1 = Employee('vijendra','rana')"
   ]
  },
  {
   "cell_type": "code",
   "execution_count": 82,
   "metadata": {
    "collapsed": true
   },
   "outputs": [],
   "source": [
    "emp1.email = 'vijen.1991@gmail.com'"
   ]
  },
  {
   "cell_type": "code",
   "execution_count": 83,
   "metadata": {
    "collapsed": false
   },
   "outputs": [
    {
     "data": {
      "text/plain": [
       "'vijen.1991@email.sc.edu'"
      ]
     },
     "execution_count": 83,
     "metadata": {},
     "output_type": "execute_result"
    }
   ],
   "source": [
    "emp1.email"
   ]
  },
  {
   "cell_type": "code",
   "execution_count": 84,
   "metadata": {
    "collapsed": true
   },
   "outputs": [],
   "source": [
    "emp1.full_name = 'Vijendra Rana'"
   ]
  },
  {
   "cell_type": "code",
   "execution_count": 85,
   "metadata": {
    "collapsed": false
   },
   "outputs": [
    {
     "data": {
      "text/plain": [
       "'Vijendra.Rana@email.sc.edu'"
      ]
     },
     "execution_count": 85,
     "metadata": {},
     "output_type": "execute_result"
    }
   ],
   "source": [
    "emp1.email"
   ]
  },
  {
   "cell_type": "code",
   "execution_count": 86,
   "metadata": {
    "collapsed": false
   },
   "outputs": [
    {
     "data": {
      "text/plain": [
       "'Vijendra Rana'"
      ]
     },
     "execution_count": 86,
     "metadata": {},
     "output_type": "execute_result"
    }
   ],
   "source": [
    "emp1.full_name"
   ]
  },
  {
   "cell_type": "code",
   "execution_count": 87,
   "metadata": {
    "collapsed": false
   },
   "outputs": [
    {
     "data": {
      "text/plain": [
       "'Vijendra'"
      ]
     },
     "execution_count": 87,
     "metadata": {},
     "output_type": "execute_result"
    }
   ],
   "source": [
    "emp1.first"
   ]
  },
  {
   "cell_type": "code",
   "execution_count": 88,
   "metadata": {
    "collapsed": false
   },
   "outputs": [
    {
     "data": {
      "text/plain": [
       "'Rana'"
      ]
     },
     "execution_count": 88,
     "metadata": {},
     "output_type": "execute_result"
    }
   ],
   "source": [
    "emp1.last"
   ]
  },
  {
   "cell_type": "code",
   "execution_count": 89,
   "metadata": {
    "collapsed": false
   },
   "outputs": [
    {
     "ename": "AttributeError",
     "evalue": "can't delete attribute",
     "output_type": "error",
     "traceback": [
      "\u001b[0;31m---------------------------------------------------------------------------\u001b[0m",
      "\u001b[0;31mAttributeError\u001b[0m                            Traceback (most recent call last)",
      "\u001b[0;32m<ipython-input-89-aa6936df30dd>\u001b[0m in \u001b[0;36m<module>\u001b[0;34m()\u001b[0m\n\u001b[0;32m----> 1\u001b[0;31m \u001b[1;32mdel\u001b[0m \u001b[0memp1\u001b[0m\u001b[1;33m.\u001b[0m\u001b[0mfull_name\u001b[0m \u001b[1;31m# can't delete this\u001b[0m\u001b[1;33m\u001b[0m\u001b[0m\n\u001b[0m",
      "\u001b[0;31mAttributeError\u001b[0m: can't delete attribute"
     ]
    }
   ],
   "source": [
    "del emp1.full_name # can't delete this"
   ]
  },
  {
   "cell_type": "code",
   "execution_count": 90,
   "metadata": {
    "collapsed": false
   },
   "outputs": [
    {
     "name": "stdout",
     "output_type": "stream",
     "text": [
      "Deleting the email hence the first name and last name as well\n"
     ]
    }
   ],
   "source": [
    "del emp1.email"
   ]
  },
  {
   "cell_type": "code",
   "execution_count": 91,
   "metadata": {
    "collapsed": false
   },
   "outputs": [
    {
     "name": "stdout",
     "output_type": "stream",
     "text": [
      "None\n"
     ]
    }
   ],
   "source": [
    "print(emp1.first)"
   ]
  },
  {
   "cell_type": "code",
   "execution_count": 92,
   "metadata": {
    "collapsed": false
   },
   "outputs": [
    {
     "name": "stdout",
     "output_type": "stream",
     "text": [
      "None.None@email.sc.edu\n"
     ]
    }
   ],
   "source": [
    "print(emp1.email)"
   ]
  },
  {
   "cell_type": "code",
   "execution_count": 93,
   "metadata": {
    "collapsed": false
   },
   "outputs": [
    {
     "name": "stdout",
     "output_type": "stream",
     "text": [
      "None\n"
     ]
    }
   ],
   "source": [
    "print(emp1.last)"
   ]
  },
  {
   "cell_type": "code",
   "execution_count": 94,
   "metadata": {
    "collapsed": false
   },
   "outputs": [
    {
     "name": "stdout",
     "output_type": "stream",
     "text": [
      "None None\n"
     ]
    }
   ],
   "source": [
    "print(emp1.full_name)"
   ]
  },
  {
   "cell_type": "code",
   "execution_count": 95,
   "metadata": {
    "collapsed": true
   },
   "outputs": [],
   "source": [
    "import memory_profiler"
   ]
  },
  {
   "cell_type": "code",
   "execution_count": 104,
   "metadata": {
    "collapsed": false
   },
   "outputs": [
    {
     "name": "stdout",
     "output_type": "stream",
     "text": [
      "50.75 MB\n"
     ]
    }
   ],
   "source": [
    "print (memory_profiler.memory_usage()[0],'MB')"
   ]
  }
 ],
 "metadata": {
  "anaconda-cloud": {},
  "kernelspec": {
   "display_name": "Python [conda root]",
   "language": "python",
   "name": "conda-root-py"
  },
  "language_info": {
   "codemirror_mode": {
    "name": "ipython",
    "version": 3
   },
   "file_extension": ".py",
   "mimetype": "text/x-python",
   "name": "python",
   "nbconvert_exporter": "python",
   "pygments_lexer": "ipython3",
   "version": "3.5.2"
  }
 },
 "nbformat": 4,
 "nbformat_minor": 2
}
