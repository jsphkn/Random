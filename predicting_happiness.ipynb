{
 "cells": [
  {
   "cell_type": "code",
   "execution_count": 1,
   "metadata": {
    "collapsed": true
   },
   "outputs": [],
   "source": [
    "import numpy as np\n",
    "import random\n",
    "import pandas as pd\n",
    "from sklearn.linear_model import LogisticRegression"
   ]
  },
  {
   "cell_type": "code",
   "execution_count": 2,
   "metadata": {
    "collapsed": false
   },
   "outputs": [],
   "source": [
    "shopping_lists = []\n",
    "\n",
    "user_ids = list(range(10))\n",
    "qty = list(range(1,11))\n",
    "\n",
    "items = {'meats' : 0 , 'frozen': 1, 'drinks' : 2,'Snacks' : 3 , 'icecream' : 4,'hard_liquor' : 5,'fruits':6}\n",
    "prices = {'meats' : 10, 'frozen' : 5, 'drinks': 10, 'Snacks' : 5, 'icecream' : 6, 'hard_liquor' : 12,'fruits': 5}\n",
    "\n",
    "num_users = len(user_ids)\n",
    "num_items = len(items)\n",
    "shopping_lists = []\n",
    "recommendation_matrix = np.zeros((num_users,num_items))"
   ]
  },
  {
   "cell_type": "markdown",
   "metadata": {},
   "source": [
    "### Cocurrence Matrix for recommendations "
   ]
  },
  {
   "cell_type": "code",
   "execution_count": 3,
   "metadata": {
    "collapsed": false
   },
   "outputs": [
    {
     "name": "stdout",
     "output_type": "stream",
     "text": [
      "[[ 4130.  4116.  4363.  4292.  4326.  4170.  4315.]\n",
      " [ 4255.  4178.  4266.  4239.  4285.  4313.  4296.]\n",
      " [ 4274.  4277.  4271.  4239.  4411.  4368.  4388.]\n",
      " [ 4164.  4379.  4419.  4276.  4266.  4364.  4276.]\n",
      " [ 4302.  4229.  4218.  4361.  4356.  4263.  4406.]\n",
      " [ 4451.  4394.  4426.  4401.  4362.  4302.  4309.]\n",
      " [ 4166.  4212.  4230.  4269.  4188.  4314.  4198.]\n",
      " [ 4240.  4325.  4339.  4294.  4174.  4376.  4339.]\n",
      " [ 4273.  4281.  4232.  4272.  4266.  4343.  4219.]\n",
      " [ 4263.  4266.  4234.  4275.  4244.  4247.  4225.]]\n"
     ]
    }
   ],
   "source": [
    "for _ in range(100000):\n",
    "    shopping_list = {}\n",
    "    happy_probabilty = 0.5\n",
    "    shopping_list['user_id'] = random.sample(user_ids,1)[0]\n",
    "    shopping_items = random.sample(list(items.keys()),3)\n",
    "    \n",
    "    shopping_list['prices'] = []\n",
    "    shopping_list['happy'] = 0\n",
    "    for item in items:\n",
    "        shopping_list['items_' + item] = 0\n",
    "    \n",
    "    for item in shopping_items:\n",
    "        shopping_list['prices'].append(prices[item])\n",
    "        shopping_list['items_'+ item] = 1\n",
    "        if item == 'frozen':\n",
    "            happy_probabilty -= 0.1\n",
    "        if item == 'hard_liquor':\n",
    "            happy_probabilty -= 0.1\n",
    "       \n",
    "        if item == 'icecream':\n",
    "            happy_probabilty += 0.2\n",
    "                    \n",
    "        if item == 'fruit':\n",
    "            happy_probabilty += 0.1\n",
    "        \n",
    "        #print(shopping_list['user_id'],items[item])\n",
    "        recommendation_matrix[shopping_list['user_id']][items[item]] += 1\n",
    "\n",
    "            \n",
    "    shopping_list['qty'] = random.sample(qty,3)\n",
    "    if random.random() <= happy_probabilty:\n",
    "        shopping_list['happy'] = 1\n",
    "   \n",
    "    shopping_lists.append(shopping_list)\n",
    "    \n",
    "print (recommendation_matrix) "
   ]
  },
  {
   "cell_type": "markdown",
   "metadata": {},
   "source": [
    "### Now for an existing user"
   ]
  },
  {
   "cell_type": "code",
   "execution_count": 4,
   "metadata": {
    "collapsed": false
   },
   "outputs": [
    {
     "name": "stdout",
     "output_type": "stream",
     "text": [
      "[ 4130.  4116.  4363.  4292.  4326.  4170.  4315.]\n",
      "2\n"
     ]
    }
   ],
   "source": [
    "#say user 0\n",
    "print (recommendation_matrix[0]) \n",
    "\n",
    "# we will predict the maximum value as product\n",
    "print (np.argmax(recommendation_matrix[0])) #so it is Drinks"
   ]
  },
  {
   "cell_type": "code",
   "execution_count": 5,
   "metadata": {
    "collapsed": false
   },
   "outputs": [
    {
     "name": "stdout",
     "output_type": "stream",
     "text": [
      "{'prices': [6, 5, 10], 'happy': 1, 'items_hard_liquor': 0, 'user_id': 5, 'items_meats': 0, 'items_icecream': 1, 'items_Snacks': 1, 'items_fruits': 0, 'qty': [4, 2, 10], 'items_frozen': 0, 'items_drinks': 1}\n",
      "{'prices': [5, 12, 6], 'happy': 0, 'items_hard_liquor': 1, 'user_id': 7, 'items_meats': 0, 'items_icecream': 1, 'items_Snacks': 1, 'items_fruits': 0, 'qty': [9, 5, 8], 'items_frozen': 0, 'items_drinks': 0}\n",
      "{'prices': [10, 5, 12], 'happy': 0, 'items_hard_liquor': 1, 'user_id': 6, 'items_meats': 1, 'items_icecream': 0, 'items_Snacks': 0, 'items_fruits': 1, 'qty': [1, 3, 4], 'items_frozen': 0, 'items_drinks': 0}\n",
      "{'prices': [5, 10, 6], 'happy': 1, 'items_hard_liquor': 0, 'user_id': 0, 'items_meats': 1, 'items_icecream': 1, 'items_Snacks': 0, 'items_fruits': 1, 'qty': [1, 2, 4], 'items_frozen': 0, 'items_drinks': 0}\n",
      "{'prices': [5, 5, 10], 'happy': 0, 'items_hard_liquor': 0, 'user_id': 9, 'items_meats': 0, 'items_icecream': 0, 'items_Snacks': 0, 'items_fruits': 1, 'qty': [1, 3, 9], 'items_frozen': 1, 'items_drinks': 1}\n",
      "{'prices': [10, 5, 6], 'happy': 1, 'items_hard_liquor': 0, 'user_id': 1, 'items_meats': 1, 'items_icecream': 1, 'items_Snacks': 0, 'items_fruits': 1, 'qty': [10, 5, 6], 'items_frozen': 0, 'items_drinks': 0}\n",
      "{'prices': [5, 10, 12], 'happy': 0, 'items_hard_liquor': 1, 'user_id': 5, 'items_meats': 1, 'items_icecream': 0, 'items_Snacks': 0, 'items_fruits': 0, 'qty': [9, 6, 3], 'items_frozen': 1, 'items_drinks': 0}\n",
      "{'prices': [6, 5, 5], 'happy': 1, 'items_hard_liquor': 0, 'user_id': 7, 'items_meats': 0, 'items_icecream': 1, 'items_Snacks': 1, 'items_fruits': 0, 'qty': [9, 7, 2], 'items_frozen': 1, 'items_drinks': 0}\n",
      "{'prices': [5, 12, 6], 'happy': 1, 'items_hard_liquor': 1, 'user_id': 7, 'items_meats': 0, 'items_icecream': 1, 'items_Snacks': 1, 'items_fruits': 0, 'qty': [4, 9, 3], 'items_frozen': 0, 'items_drinks': 0}\n",
      "{'prices': [5, 5, 12], 'happy': 1, 'items_hard_liquor': 1, 'user_id': 3, 'items_meats': 0, 'items_icecream': 0, 'items_Snacks': 0, 'items_fruits': 1, 'qty': [6, 4, 1], 'items_frozen': 1, 'items_drinks': 0}\n"
     ]
    }
   ],
   "source": [
    "for li in shopping_lists[:10]:\n",
    "    print(li)"
   ]
  },
  {
   "cell_type": "code",
   "execution_count": 6,
   "metadata": {
    "collapsed": false
   },
   "outputs": [
    {
     "name": "stdout",
     "output_type": "stream",
     "text": [
      "Index(['items_Snacks', 'items_drinks', 'items_frozen', 'items_fruits',\n",
      "       'items_hard_liquor', 'items_icecream', 'items_meats'],\n",
      "      dtype='object')\n"
     ]
    }
   ],
   "source": [
    "a = pd.DataFrame.from_dict(shopping_lists)\n",
    "columns_of_interest = a.columns[1:-3]\n",
    "print (columns_of_interest)"
   ]
  },
  {
   "cell_type": "code",
   "execution_count": 7,
   "metadata": {
    "collapsed": false
   },
   "outputs": [],
   "source": [
    "training_data = a.iloc[:80000]\n",
    "testing_data = a.iloc[80000:]\n",
    "regressor = LogisticRegression()\n",
    "regressor.fit(training_data[columns_of_interest],training_data['happy'])\n",
    "testing_predicted_labels = regressor.predict(testing_data[columns_of_interest])\n",
    "testing_real_labels = testing_data['happy'].as_matrix()"
   ]
  },
  {
   "cell_type": "code",
   "execution_count": 9,
   "metadata": {
    "collapsed": false
   },
   "outputs": [
    {
     "data": {
      "text/plain": [
       "array([[ 0.40347404,  0.59652596],\n",
       "       [ 0.51270739,  0.48729261],\n",
       "       [ 0.60046233,  0.39953767],\n",
       "       ..., \n",
       "       [ 0.59610417,  0.40389583],\n",
       "       [ 0.60362293,  0.39637707],\n",
       "       [ 0.49360417,  0.50639583]])"
      ]
     },
     "execution_count": 9,
     "metadata": {},
     "output_type": "execute_result"
    }
   ],
   "source": [
    "regressor.predict_proba(testing_data[columns_of_interest]) #probabiltiy of the happy or not happy"
   ]
  },
  {
   "cell_type": "code",
   "execution_count": 10,
   "metadata": {
    "collapsed": false
   },
   "outputs": [
    {
     "name": "stdout",
     "output_type": "stream",
     "text": [
      "0.6153\n"
     ]
    }
   ],
   "source": [
    "accuracy = np.sum(testing_real_labels == testing_predicted_labels)/len(testing_real_labels)\n",
    "print (accuracy)"
   ]
  },
  {
   "cell_type": "code",
   "execution_count": null,
   "metadata": {
    "collapsed": true
   },
   "outputs": [],
   "source": []
  }
 ],
 "metadata": {
  "kernelspec": {
   "display_name": "Python 3",
   "language": "python",
   "name": "python3"
  },
  "language_info": {
   "codemirror_mode": {
    "name": "ipython",
    "version": 3
   },
   "file_extension": ".py",
   "mimetype": "text/x-python",
   "name": "python",
   "nbconvert_exporter": "python",
   "pygments_lexer": "ipython3",
   "version": "3.4.3"
  },
  "widgets": {
   "state": {},
   "version": "1.1.2"
  }
 },
 "nbformat": 4,
 "nbformat_minor": 0
}
